{
 "cells": [
  {
   "cell_type": "markdown",
   "metadata": {},
   "source": [
    "# Predicting New York Times \"Editor's Selection\" comments"
   ]
  },
  {
   "cell_type": "markdown",
   "metadata": {},
   "source": [
    "### Abstract\n",
    "\n",
    "The following notebook has the goal to predict the \"Editor's Selection\" comments of the open articles from the [New York Times](https://www.nytimes.com/) webpage.\n",
    "\n",
    "These are the steps to achieve this goal:\n",
    "- **Import data**\n",
    "- **Pre-processing features**\n",
    "- **Processing comments texts**\n",
    "- **Modeling and testing**\n",
    "- **Discussing results**\n",
    "\n",
    "The imported dataset contains data from January 2017 until May 2017 and from January 2018 until May 2018, related to articles and comments from NY Times. After importing, some features are pre-selected to be used in the model. The features are treated and some new features are created. The *editorsSelection* represents if the comment is an \"Editor's Selection\" or not, and will be the target.\n",
    "\n",
    "The feature **commentBody** represents the comment itself. I separate it and process the text using NLP techniques. I do **Count Vectorization**, **Stemming** and **TF-IDF** to vectorize and prepare the comments for use in the model.\n",
    "\n",
    "For classification, the **SVM** algorithm is the chosen one. It will be evaluated using three measures: **Accuracy**, **AUROC**, and **F1-Score**.\n",
    "\n",
    "After that, the SVM will be reparameterized with **Grid Search**.\n",
    "\n",
    "Finally, the results will be discussed and some future works will be recommended.\n",
    "\n",
    ">Some codes and ideas were inspired by [Aashita Kesarwani Predicting NYT's pick notebook](https://www.kaggle.com/aashita/predicting-nyt-s-pick/notebook)"
   ]
  },
  {
   "cell_type": "markdown",
   "metadata": {},
   "source": [
    "## Beginning"
   ]
  },
  {
   "cell_type": "code",
   "execution_count": 1,
   "metadata": {},
   "outputs": [],
   "source": [
    "import pandas as pd\n",
    "import numpy as np\n",
    "import datetime as dt\n",
    "import math\n",
    "import matplotlib.pyplot as plt\n",
    "from collections import Counter\n",
    "import nltk\n",
    "from nltk import ne_chunk, pos_tag, word_tokenize\n",
    "from nltk.tree import Tree\n",
    "from nltk.stem.snowball import SnowballStemmer\n",
    "import re, string\n",
    "import time\n",
    "from sklearn import preprocessing\n",
    "from sklearn.utils import resample\n",
    "from sklearn.metrics import classification_report\n",
    "from sklearn.feature_extraction.text import CountVectorizer\n",
    "from sklearn.feature_extraction.text import TfidfTransformer\n",
    "from sklearn.naive_bayes import MultinomialNB\n",
    "from sklearn.linear_model import SGDClassifier\n",
    "from scipy.sparse import hstack\n",
    "from sklearn import linear_model\n",
    "from sklearn.model_selection import train_test_split\n",
    "from sklearn.model_selection import GridSearchCV\n",
    "from sklearn.metrics import f1_score, roc_curve, auc, roc_auc_score\n",
    "from sklearn.pipeline import Pipeline\n",
    "\n",
    "\n",
    "%matplotlib inline"
   ]
  },
  {
   "cell_type": "markdown",
   "metadata": {},
   "source": [
    "## Importing data"
   ]
  },
  {
   "cell_type": "markdown",
   "metadata": {},
   "source": [
    "There are two kinds of datasets: Articles Dataset and Comments Dataset.\n",
    "\n",
    "The Articles dataset contains more than 9000 articles and 16 features. It represents the articles headers, with information like date of publication (pubDate) and category (newDesk).\n",
    "\n",
    "The Comments dataset contains more than 2 million comments and 34 features. This dataset contains the comment feature (commentBody) and some information about the comment, i.e. comment date of publication (approveDate). Also, it contains the target feature: **editorsSelection**.\n",
    "\n",
    "Here is the feature relation:\n",
    "\n",
    "|\tArticles Dataset\t\t|\tComments Dataset   |\n",
    "|-----------------------|---------------------------|\n",
    "|\tabstract\t\t\t|\tapproveDate\t\t\t\t|\n",
    "|\tarticleID\t\t\t|\tarticleID\t\t\t\t|\n",
    "|\tarticleWordCount\t|\tarticleWordCount\t\t|\n",
    "|\tbyline\t\t\t\t|\tcommentBody\t\t\t\t|\n",
    "|\twebURL\t\t\t\t|\tcommentID\t\t\t\t|\n",
    "|\ttypeOfMaterial\t\t|\tcommentSequence\t\t\t|\n",
    "|\tsource\t\t\t\t|\tcommentTitle\t\t\t|\n",
    "|\tsnippet\t\t\t\t|\tcommentType\t\t\t\t|\n",
    "|\tsectionName\t\t\t|\tcreateDate\t\t\t\t|\n",
    "|\tpubDate\t\t\t\t|\tdepth\t\t\t\t\t|\n",
    "|\tprintPage\t\t\t|\teditorsSelection\t\t|\n",
    "|\tdocumentType\t\t|\tinReplyTo\t\t\t\t|\n",
    "|\theadline\t\t\t|\tnewDesk\t\t\t\t\t|\n",
    "|\tkeywords\t\t\t|\tparentID\t\t\t\t|\n",
    "|\tmultimedia\t\t\t|\tparentUserDisplayName\t|\n",
    "|\tnewDesk\t\t\t\t|\tpermID\t\t\t\t\t|\n",
    "|\t\t\t\t\t\t|\tpicURL\t\t\t\t\t|\n",
    "|\t\t\t\t\t\t|\tprintPage\t\t\t\t|\n",
    "|\t\t\t\t\t\t|\trecommendations\t\t\t|\n",
    "|\t\t\t\t\t\t|\trecommendedFlag\t\t\t|\n",
    "|\t\t\t\t\t\t|\treplyCount\t\t\t\t|\n",
    "|\t\t\t\t\t\t|\treportAbuseFlag\t\t\t|\n",
    "|\t \t\t\t\t\t|\tsectionName\t\t\t\t|\n",
    "|\t\t\t\t\t\t|\tsharing\t\t\t\t\t|\n",
    "|\t\t\t\t\t\t|\tstatus\t\t\t\t\t|\n",
    "|\t\t\t\t\t\t|\ttimespeople\t\t\t\t|\n",
    "|\t\t\t\t\t\t|\ttrusted\t\t\t\t\t|\n",
    "|\t\t\t\t\t\t|\ttypeOfMaterial\t\t\t|\n",
    "|\t\t\t\t\t\t|\tupdateDate\t\t\t\t|\n",
    "|\t\t\t\t\t\t|\tuserDisplayName\t\t\t|\n",
    "|\t\t\t\t\t\t|\tuserID\t\t\t\t\t|\n",
    "|\t\t\t\t\t\t|\tuserLocation\t\t\t|\n",
    "|\t\t\t\t\t\t|\tuserTitle\t\t\t\t|\n",
    "|\t\t\t\t\t\t|\tuserURL\t\t\t\t\t|\n",
    "\n",
    "For now, some features will be *excluded* from our study. Some will be removed due to their nature of non-relation with our problem.\n",
    "\n",
    "Here are the chosen features for now:\n",
    "\n",
    "|\tArticles festures\t\t|\tComments features\t|\n",
    "|---------------------------|---------------------------|\n",
    "|\tarticleID\t\t\t\t|\tarticleID\t\t\t\t|\n",
    "|\tarticleWordCount\t\t|\tcreateDate\t\t\t\t|\n",
    "|\tnewDesk\t\t\t\t\t|\tapproveDate\t\t\t\t|\n",
    "|\ttypeOfMaterial\t\t\t|\tcommentBody\t\t\t\t|\n",
    "|\tpubDate \t\t\t\t|\trecommendations\t\t\t|\n",
    "|\t     \t\t\t\t\t|\treplyCount\t\t\t\t|\n",
    "|\t\t\t\t\t\t\t|\teditorsSelection\t\t|"
   ]
  },
  {
   "cell_type": "code",
   "execution_count": 2,
   "metadata": {},
   "outputs": [],
   "source": [
    "art_columns = ['articleID', 'articleWordCount', 'newDesk', 'typeOfMaterial', 'pubDate']\n",
    "com_columns = ['articleID', 'createDate', 'approveDate', 'commentBody', 'recommendations', 'replyCount','editorsSelection']\n",
    "\n",
    "df_art_jan17 = pd.read_csv('nyt-comments/ArticlesJan2017.csv', usecols=art_columns)\n",
    "df_com_jan17 = pd.read_csv('nyt-comments/CommentsJan2017.csv', usecols=com_columns)\n",
    "df_art_fev17 = pd.read_csv('nyt-comments/ArticlesFeb2017.csv', usecols=art_columns)\n",
    "df_com_fev17 = pd.read_csv('nyt-comments/CommentsFeb2017.csv', usecols=com_columns)\n",
    "df_art_mar17 = pd.read_csv('nyt-comments/ArticlesMarch2017.csv', usecols=art_columns)\n",
    "df_com_mar17 = pd.read_csv('nyt-comments/CommentsMarch2017.csv', usecols=com_columns)\n",
    "df_art_apr17 = pd.read_csv('nyt-comments/ArticlesApril2017.csv', usecols=art_columns)\n",
    "df_com_apr17 = pd.read_csv('nyt-comments/CommentsApril2017.csv', usecols=com_columns)\n",
    "df_art_may17 = pd.read_csv('nyt-comments/ArticlesMay2017.csv', usecols=art_columns)\n",
    "df_com_may17 = pd.read_csv('nyt-comments/CommentsMay2017.csv', usecols=com_columns)\n",
    "df_art_jan18 = pd.read_csv('nyt-comments/ArticlesJan2018.csv', usecols=art_columns)\n",
    "df_com_jan18 = pd.read_csv('nyt-comments/CommentsJan2018.csv', usecols=com_columns)\n",
    "df_art_fev18 = pd.read_csv('nyt-comments/ArticlesFeb2018.csv', usecols=art_columns)\n",
    "df_com_fev18 = pd.read_csv('nyt-comments/CommentsFeb2018.csv', usecols=com_columns)\n",
    "df_art_mar18 = pd.read_csv('nyt-comments/ArticlesMarch2018.csv', usecols=art_columns)\n",
    "df_com_mar18 = pd.read_csv('nyt-comments/CommentsMarch2018.csv', usecols=com_columns)\n",
    "df_art_apr18 = pd.read_csv('nyt-comments/ArticlesApril2018.csv', usecols=art_columns)\n",
    "df_com_apr18 = pd.read_csv('nyt-comments/CommentsApril2018.csv', usecols=com_columns)\n",
    "\n",
    "comments = [df_com_jan17, df_com_fev17, df_com_mar17, df_com_apr17, df_com_may17, df_com_jan18, df_com_fev18, df_com_mar18, df_com_apr18]\n",
    "df_comments = pd.concat(comments)\n",
    "articles = [df_art_jan17, df_art_fev17, df_art_mar17, df_art_apr17, df_art_may17, df_art_jan18, df_art_fev18, df_art_mar18, df_art_apr18]\n",
    "df_articles = pd.concat(articles)\n",
    "\n",
    "df = pd.merge(df_articles, df_comments, on='articleID', how='inner') "
   ]
  },
  {
   "cell_type": "markdown",
   "metadata": {},
   "source": [
    "## Pre-processing data"
   ]
  },
  {
   "cell_type": "markdown",
   "metadata": {},
   "source": [
    "### Comments feature\n",
    "\n",
    "Most of the comments of NY Times naturally are written in English. However, since the comments are opened for anyone, consequently we expect to find errors and unsupported characters (from different languages). For example, HTML tags and Japanese characters.\n",
    "\n",
    "Since the nature of an \"Editor's Selection\" comment is to be well written and containing a relevant opinion about the subject, we must treat the inconveniences of the **commentBody** feature."
   ]
  },
  {
   "cell_type": "markdown",
   "metadata": {},
   "source": [
    "#### Removing tags and punctuation"
   ]
  },
  {
   "cell_type": "code",
   "execution_count": 3,
   "metadata": {},
   "outputs": [],
   "source": [
    "def remove_tags(text):\n",
    "    TAG_RE = re.compile(r'<[^>]+>')\n",
    "    return TAG_RE.sub('', text)\n",
    "\n",
    "def remove_punctuation(text):\n",
    "    return re.sub(r'[^\\w\\s]',' ',text)"
   ]
  },
  {
   "cell_type": "code",
   "execution_count": 4,
   "metadata": {},
   "outputs": [],
   "source": [
    "df.commentBody = df.commentBody.apply(lambda x: remove_tags(x))\n",
    "df.commentBody = df.commentBody.apply(lambda x: remove_punctuation(x))"
   ]
  },
  {
   "cell_type": "markdown",
   "metadata": {},
   "source": [
    "#### Removing wrong coding"
   ]
  },
  {
   "cell_type": "code",
   "execution_count": 5,
   "metadata": {},
   "outputs": [],
   "source": [
    "df.commentBody = df.commentBody.apply(lambda x: str(x.encode('ascii', 'ignore')))"
   ]
  },
  {
   "cell_type": "markdown",
   "metadata": {},
   "source": [
    "#### Treating english words\n",
    "\n",
    "Using Name Entity Recognition (NER) and some English dictionary, it is possible to maintain only English words in comments."
   ]
  },
  {
   "cell_type": "code",
   "execution_count": 6,
   "metadata": {},
   "outputs": [
    {
     "name": "stdout",
     "output_type": "stream",
     "text": [
      "1492.6859822273254\n"
     ]
    }
   ],
   "source": [
    "#Creating Name/Entity/Place dictionary\n",
    "def NER(df):\n",
    "    continuous_chunk = []\n",
    "    for index, row in df.iterrows():\n",
    "        chunked = ne_chunk(pos_tag(word_tokenize(row['commentBody'])))\n",
    "        prev = None\n",
    "        current_chunk = []\n",
    "        for i in chunked:\n",
    "            if type(i) == Tree:\n",
    "                current_chunk.append(\" \".join([token for token, pos in i.leaves()]))\n",
    "            elif current_chunk:\n",
    "                named_entity = \" \".join(current_chunk)\n",
    "                if named_entity not in continuous_chunk:\n",
    "                    continuous_chunk.append(named_entity)\n",
    "                    current_chunk = []\n",
    "                else:\n",
    "                    continue\n",
    "    return set(continuous_chunk)\n",
    "\n",
    "start_time = time.time()\n",
    "#Using only NER extracted from comments selected as \"Editor's Selection\" to reduce the dictionary\n",
    "people_words = NER(df[df['editorsSelection'] == 1])\n",
    "print(time.time() - start_time)"
   ]
  },
  {
   "cell_type": "code",
   "execution_count": 7,
   "metadata": {},
   "outputs": [],
   "source": [
    "#Creating English Dictionary using NLTK package\n",
    "words = set(nltk.corpus.words.words() + list(nltk.corpus.wordnet.words()) + list(people_words))"
   ]
  },
  {
   "cell_type": "code",
   "execution_count": 8,
   "metadata": {},
   "outputs": [
    {
     "name": "stdout",
     "output_type": "stream",
     "text": [
      "326.3583779335022\n"
     ]
    }
   ],
   "source": [
    "def clean_text(text):\n",
    "    return \" \".join(w for w in nltk.wordpunct_tokenize(text) if w in words or w.lower() in words or (nltk.corpus.wordnet.morphy(w.lower()) is not None and nltk.corpus.wordnet.morphy(w.lower()).lower() in words))\n",
    "\n",
    "start_time = time.time()\n",
    "df.commentBody = df.commentBody.apply(lambda x: clean_text(x)) \n",
    "print(time.time() - start_time)"
   ]
  },
  {
   "cell_type": "markdown",
   "metadata": {},
   "source": [
    "### Creating feature variations\n",
    "\n",
    "The data features won't be useful in their original conditions. It is necessary to quantify them.\n",
    "\n",
    "In this case, it will be created two new features: **commentApprovalLength**, which represents the waiting time for the comment to be approved; and **commentPubLength**, which is the time between the article publication and the comment publication."
   ]
  },
  {
   "cell_type": "code",
   "execution_count": 9,
   "metadata": {},
   "outputs": [],
   "source": [
    "df['commentApprovalLength'] = df.apply(lambda row: (dt.datetime.fromtimestamp(int(row['approveDate'])) - dt.datetime.fromtimestamp(int(row['createDate']))).total_seconds(), axis=1)\n",
    "df['commentPubLength'] = df.apply(lambda row: (dt.datetime.fromtimestamp(int(row['approveDate'])) - dt.datetime.strptime(row['pubDate'], '%Y-%m-%d %H:%M:%S')).total_seconds(), axis=1)"
   ]
  },
  {
   "cell_type": "markdown",
   "metadata": {},
   "source": [
    "Also, it is now possible to count the number of words of the treated commentBody feature creating a new column called **commentWordCount**."
   ]
  },
  {
   "cell_type": "code",
   "execution_count": 10,
   "metadata": {},
   "outputs": [],
   "source": [
    "df['commentWordCount'] = df.apply(lambda row: sum(Counter(row['commentBody'].split()).values()), axis=1)"
   ]
  },
  {
   "cell_type": "code",
   "execution_count": 11,
   "metadata": {},
   "outputs": [],
   "source": [
    "#Cleaning unused features\n",
    "df.drop(columns=['approveDate', 'createDate', 'articleID', 'pubDate'], inplace=True)"
   ]
  },
  {
   "cell_type": "markdown",
   "metadata": {},
   "source": [
    "#### Quantifying categorical features\n",
    "\n",
    "The categorical features should be transformed into numerical features to help the classifier to not misinterpret. It will be created new columns to represent the categories in numbers (0 or 1)."
   ]
  },
  {
   "cell_type": "code",
   "execution_count": 12,
   "metadata": {},
   "outputs": [],
   "source": [
    "df = pd.get_dummies(df, columns=[\"newDesk\", \"typeOfMaterial\"])"
   ]
  },
  {
   "cell_type": "markdown",
   "metadata": {},
   "source": [
    "#### Normalizing numerical features\n",
    "\n",
    "The numerical features should be normalized to avoid wrong weighted classification. The MinMaxScaler() will be used for that."
   ]
  },
  {
   "cell_type": "code",
   "execution_count": 13,
   "metadata": {},
   "outputs": [],
   "source": [
    "min_max_scaler = preprocessing.MinMaxScaler()\n",
    "#Array with numerical features\n",
    "np_numbers = df[['articleWordCount', 'recommendations', 'replyCount', 'commentWordCount', 'commentApprovalLength', 'commentPubLength']].values.astype(float)\n",
    "\n",
    "#Normalizing\n",
    "np_scaled = min_max_scaler.fit_transform(np_numbers)\n",
    "df_normalized = pd.DataFrame(np_scaled)\n",
    "#Renaming columns\n",
    "df_normalized.columns = ['articleWordCount', 'recommendations', 'replyCount', 'commentWordCount', 'commentApprovalLength', 'commentPubLength']\n",
    "\n",
    "#Joining new dataframe\n",
    "cols = [i for i in df.columns.values if i not in list(['articleWordCount', 'recommendations', 'replyCount', 'commentWordCount','commentApprovalLength','commentPubLength'])]\n",
    "df_normalized = df_normalized.join(df[cols])"
   ]
  },
  {
   "cell_type": "code",
   "execution_count": 14,
   "metadata": {},
   "outputs": [
    {
     "data": {
      "text/html": [
       "<div>\n",
       "<style scoped>\n",
       "    .dataframe tbody tr th:only-of-type {\n",
       "        vertical-align: middle;\n",
       "    }\n",
       "\n",
       "    .dataframe tbody tr th {\n",
       "        vertical-align: top;\n",
       "    }\n",
       "\n",
       "    .dataframe thead th {\n",
       "        text-align: right;\n",
       "    }\n",
       "</style>\n",
       "<table border=\"1\" class=\"dataframe\">\n",
       "  <thead>\n",
       "    <tr style=\"text-align: right;\">\n",
       "      <th></th>\n",
       "      <th>articleWordCount</th>\n",
       "      <th>recommendations</th>\n",
       "      <th>replyCount</th>\n",
       "      <th>commentWordCount</th>\n",
       "      <th>commentApprovalLength</th>\n",
       "      <th>commentPubLength</th>\n",
       "      <th>commentBody</th>\n",
       "      <th>editorsSelection</th>\n",
       "      <th>newDesk_Arts&amp;Leisure</th>\n",
       "      <th>newDesk_Automobiles</th>\n",
       "      <th>...</th>\n",
       "      <th>typeOfMaterial_Editorial</th>\n",
       "      <th>typeOfMaterial_Interview</th>\n",
       "      <th>typeOfMaterial_Letter</th>\n",
       "      <th>typeOfMaterial_News</th>\n",
       "      <th>typeOfMaterial_News Analysis</th>\n",
       "      <th>typeOfMaterial_Obituary (Obit)</th>\n",
       "      <th>typeOfMaterial_Op-Ed</th>\n",
       "      <th>typeOfMaterial_Question</th>\n",
       "      <th>typeOfMaterial_Review</th>\n",
       "      <th>typeOfMaterial_briefing</th>\n",
       "    </tr>\n",
       "  </thead>\n",
       "  <tbody>\n",
       "    <tr>\n",
       "      <th>0</th>\n",
       "      <td>0.080429</td>\n",
       "      <td>0.000477</td>\n",
       "      <td>0.160804</td>\n",
       "      <td>0.291866</td>\n",
       "      <td>0.001730</td>\n",
       "      <td>0.005408</td>\n",
       "      <td>b For all you Americans out there still rejoic...</td>\n",
       "      <td>0</td>\n",
       "      <td>0</td>\n",
       "      <td>0</td>\n",
       "      <td>...</td>\n",
       "      <td>0</td>\n",
       "      <td>0</td>\n",
       "      <td>0</td>\n",
       "      <td>1</td>\n",
       "      <td>0</td>\n",
       "      <td>0</td>\n",
       "      <td>0</td>\n",
       "      <td>0</td>\n",
       "      <td>0</td>\n",
       "      <td>0</td>\n",
       "    </tr>\n",
       "    <tr>\n",
       "      <th>1</th>\n",
       "      <td>0.080429</td>\n",
       "      <td>0.000286</td>\n",
       "      <td>0.160804</td>\n",
       "      <td>0.143541</td>\n",
       "      <td>0.002221</td>\n",
       "      <td>0.005402</td>\n",
       "      <td>b Obamas policies may prove to be the least of...</td>\n",
       "      <td>0</td>\n",
       "      <td>0</td>\n",
       "      <td>0</td>\n",
       "      <td>...</td>\n",
       "      <td>0</td>\n",
       "      <td>0</td>\n",
       "      <td>0</td>\n",
       "      <td>1</td>\n",
       "      <td>0</td>\n",
       "      <td>0</td>\n",
       "      <td>0</td>\n",
       "      <td>0</td>\n",
       "      <td>0</td>\n",
       "      <td>0</td>\n",
       "    </tr>\n",
       "  </tbody>\n",
       "</table>\n",
       "<p>2 rows × 66 columns</p>\n",
       "</div>"
      ],
      "text/plain": [
       "   articleWordCount  recommendations  replyCount  commentWordCount  \\\n",
       "0          0.080429         0.000477    0.160804          0.291866   \n",
       "1          0.080429         0.000286    0.160804          0.143541   \n",
       "\n",
       "   commentApprovalLength  commentPubLength  \\\n",
       "0               0.001730          0.005408   \n",
       "1               0.002221          0.005402   \n",
       "\n",
       "                                         commentBody  editorsSelection  \\\n",
       "0  b For all you Americans out there still rejoic...                 0   \n",
       "1  b Obamas policies may prove to be the least of...                 0   \n",
       "\n",
       "   newDesk_Arts&Leisure  newDesk_Automobiles           ...             \\\n",
       "0                     0                    0           ...              \n",
       "1                     0                    0           ...              \n",
       "\n",
       "   typeOfMaterial_Editorial  typeOfMaterial_Interview  typeOfMaterial_Letter  \\\n",
       "0                         0                         0                      0   \n",
       "1                         0                         0                      0   \n",
       "\n",
       "   typeOfMaterial_News  typeOfMaterial_News Analysis  \\\n",
       "0                    1                             0   \n",
       "1                    1                             0   \n",
       "\n",
       "   typeOfMaterial_Obituary (Obit)  typeOfMaterial_Op-Ed  \\\n",
       "0                               0                     0   \n",
       "1                               0                     0   \n",
       "\n",
       "   typeOfMaterial_Question  typeOfMaterial_Review  typeOfMaterial_briefing  \n",
       "0                        0                      0                        0  \n",
       "1                        0                      0                        0  \n",
       "\n",
       "[2 rows x 66 columns]"
      ]
     },
     "execution_count": 14,
     "metadata": {},
     "output_type": "execute_result"
    }
   ],
   "source": [
    "#Checking how the features are now\n",
    "df_normalized.head(2)"
   ]
  },
  {
   "cell_type": "markdown",
   "metadata": {},
   "source": [
    "### Balancing classes"
   ]
  },
  {
   "cell_type": "markdown",
   "metadata": {},
   "source": [
    "Let's check how the targed feature **editorsSelection** is balanced in the sample."
   ]
  },
  {
   "cell_type": "code",
   "execution_count": 15,
   "metadata": {},
   "outputs": [
    {
     "name": "stdout",
     "output_type": "stream",
     "text": [
      "1.9107573251608228\n"
     ]
    },
    {
     "data": {
      "image/png": "[encoded data removed]",
      "text/plain": [
       "<Figure size 360x360 with 1 Axes>"
      ]
     },
     "metadata": {},
     "output_type": "display_data"
    }
   ],
   "source": [
    "pd.value_counts(df_normalized['editorsSelection']).plot.pie(figsize = (5,5))\n",
    "print((float(pd.value_counts(df_normalized['editorsSelection'])[1])/float(pd.value_counts(df_normalized['editorsSelection']).sum())) * 100)"
   ]
  },
  {
   "cell_type": "markdown",
   "metadata": {},
   "source": [
    "It is notable the unbalanced dataset. The editorsSelection class = 1 represents **1.91%** of the entire dataset. To work with this class, it is necessary to downsample the editorsSelection class = 0."
   ]
  },
  {
   "cell_type": "code",
   "execution_count": 27,
   "metadata": {
    "scrolled": false
   },
   "outputs": [
    {
     "name": "stdout",
     "output_type": "stream",
     "text": [
      "25.0\n"
     ]
    },
    {
     "data": {
      "image/png": "[encoded data removed]",
      "text/plain": [
       "<Figure size 360x360 with 1 Axes>"
      ]
     },
     "metadata": {},
     "output_type": "display_data"
    }
   ],
   "source": [
    "'''\n",
    "Returns the balanced class using the percentage that is needed to maintain in the class with less occurrence.\n",
    "For example, if we need the class 1 (minority) to represents 30% of the entire dataset, percent = 0.3. \n",
    "The class 0 (majority) will have samples removed randomly until it represents 70% of the entire dataset.\n",
    "'''\n",
    "def downSampling(sample, col_class, percent):\n",
    "    #Finding the majority and minority class\n",
    "    counts = sample[col_class].value_counts().to_dict()\n",
    "    max_label = max(counts.keys(), key=(lambda k: counts[k]))\n",
    "    min_label = min(counts.keys(), key=(lambda k: counts[k]))\n",
    "    #Separating class samples\n",
    "    sample_max = sample[sample[col_class] == max_label]\n",
    "    sample_min = sample[sample[col_class] == min_label]\n",
    "    #Finding the actual ratio between classes\n",
    "    actual_ratio = float(min(counts.values()))/float(sum(counts.values()))\n",
    "    if(actual_ratio >= percent):\n",
    "        return sample\n",
    "    #Calculating the number of necessary samples to be excluded\n",
    "    desired_samples = int(float(min(counts.values()) - (percent * min(counts.values()))) / float(percent))\n",
    "    #Resampling dataset\n",
    "    sample_max_downsampled = resample(sample_max, replace=False, n_samples=desired_samples, random_state=100)\n",
    "    #Combining samples\n",
    "    sample_downsampled = pd.concat([sample_max_downsampled, sample_min])\n",
    "    return sample_downsampled\n",
    "\n",
    "#It was chosen the 1:4 (25%) ratio for downsampling\n",
    "df_normalized_balanced = downSampling(df_normalized, 'editorsSelection', 0.25)\n",
    "pd.value_counts(df_normalized_balanced['editorsSelection']).plot.pie(figsize = (5,5))\n",
    "print((float(pd.value_counts(df_normalized_balanced['editorsSelection'])[1])/float(pd.value_counts(df_normalized_balanced['editorsSelection']).sum())) * 100)"
   ]
  },
  {
   "cell_type": "markdown",
   "metadata": {},
   "source": [
    ">It was chosen the value of 25% to compare to [Aashita Kesarwani Predicting NYT's pick notebook](https://www.kaggle.com/aashita/predicting-nyt-s-pick/notebook)"
   ]
  },
  {
   "cell_type": "markdown",
   "metadata": {},
   "source": [
    "Now the editorsSelection class = 1 is balanced to represents **25%** of the dataset."
   ]
  },
  {
   "cell_type": "markdown",
   "metadata": {},
   "source": [
    "### NLP - Working with comments\n",
    "\n",
    "Now we use NLP techniques to transform the comments text into a feature vector, to use later in classification.\n",
    "\n",
    "#### Count Vectorizer e Stemming\n",
    "\n",
    "We will use Count Vectorizer to transform text into a count vector with the words frequency. Also, we use Stemming to reduce words to the root form."
   ]
  },
  {
   "cell_type": "code",
   "execution_count": 28,
   "metadata": {},
   "outputs": [
    {
     "name": "stdout",
     "output_type": "stream",
     "text": [
      "(165944, 31995)\n"
     ]
    }
   ],
   "source": [
    "stemmer = SnowballStemmer(\"english\", ignore_stopwords=True)\n",
    "\n",
    "class StemmedCountVectorizer(CountVectorizer):\n",
    "    def build_analyzer(self):\n",
    "        analyzer = super(StemmedCountVectorizer, self).build_analyzer()\n",
    "        return lambda doc: ([stemmer.stem(w) for w in analyzer(doc)])\n",
    "    \n",
    "stemmed_count_vect = StemmedCountVectorizer(stop_words='english', decode_error='ignore')\n",
    "counts = stemmed_count_vect.fit_transform(df_normalized_balanced['commentBody'].values.astype('U'))\n",
    "\n",
    "print(counts.shape)"
   ]
  },
  {
   "cell_type": "markdown",
   "metadata": {},
   "source": [
    "#### TF-IDF\n",
    "To reduce the weight of the counting, it is needed to normalize frequency with TF-IDF."
   ]
  },
  {
   "cell_type": "code",
   "execution_count": 29,
   "metadata": {},
   "outputs": [
    {
     "name": "stdout",
     "output_type": "stream",
     "text": [
      "(165944, 31995)\n"
     ]
    }
   ],
   "source": [
    "tfidf_transformer = TfidfTransformer()\n",
    "tfidf = tfidf_transformer.fit_transform(counts)\n",
    "\n",
    "print(tfidf.shape)"
   ]
  },
  {
   "cell_type": "markdown",
   "metadata": {},
   "source": [
    "**What we have so far**: cleaned and treated features, extra features and comment texts vectorized.\n",
    "\n",
    "Now we build our model."
   ]
  },
  {
   "cell_type": "markdown",
   "metadata": {},
   "source": [
    "### Modeling and evaluating"
   ]
  },
  {
   "cell_type": "markdown",
   "metadata": {},
   "source": [
    "Firstly, let's separate the target feature from the rest."
   ]
  },
  {
   "cell_type": "code",
   "execution_count": 30,
   "metadata": {},
   "outputs": [],
   "source": [
    "y = df_normalized_balanced[['editorsSelection']]\n",
    "X = df_normalized_balanced.drop(['editorsSelection', 'commentBody'], axis=1)"
   ]
  },
  {
   "cell_type": "markdown",
   "metadata": {},
   "source": [
    "The classification algorithm chosen is SVM with linear kernel (**SGDClassifier**).\n",
    "\n",
    "The chosen metrics to measure the model performance will be **Acurracy**, **AUROC**, and **F1-Score**.\n",
    "\n",
    "For training and validation, the dataset will be split into three parts: **80%/20%**, **70%/30%** e **60%/40%** (Training/Testing). After that, we calculate the mean of the metrics."
   ]
  },
  {
   "cell_type": "code",
   "execution_count": 31,
   "metadata": {},
   "outputs": [],
   "source": [
    "def get_metrics(y_test, predicted):\n",
    "    fpr, tpr, thresholds = roc_curve(y_test, predicted, pos_label=1)\n",
    "    roc = auc(fpr, tpr)\n",
    "    f1 = f1_score(y_test, predicted, average='binary')\n",
    "    ac = np.mean(predicted == y_test)\n",
    "    return roc, f1, ac"
   ]
  },
  {
   "cell_type": "code",
   "execution_count": 33,
   "metadata": {},
   "outputs": [],
   "source": [
    "def train_predict(clf, X_train, y_train, X_test):\n",
    "    clf.fit(X_train, y_train)\n",
    "    predicted = clf.predict(X_test)\n",
    "    return predicted\n",
    "\n",
    "def results_train_test(clf, X, y):\n",
    "\n",
    "    X_train_80, X_test_20, y_train_80, y_test_20 = train_test_split(X, y, test_size=0.2, random_state=100)\n",
    "    X_train_70, X_test_30, y_train_70, y_test_30 = train_test_split(X, y, test_size=0.3, random_state=100)\n",
    "    X_train_60, X_test_40, y_train_60, y_test_40 = train_test_split(X, y, test_size=0.4, random_state=100)\n",
    "\n",
    "    pred_20 = train_predict(clf, X_train_80, y_train_80, X_test_20)\n",
    "    pred_30 = train_predict(clf, X_train_70, y_train_70, X_test_30)\n",
    "    pred_40 = train_predict(clf, X_train_60, y_train_60, X_test_40)\n",
    "\n",
    "    roc20, f120, acc20 = get_metrics(y_test_20, pred_20)\n",
    "    roc30, f130, acc30 = get_metrics(y_test_30, pred_30)\n",
    "    roc40, f140, acc40 = get_metrics(y_test_40, pred_40)\n",
    "    mean_roc = (roc20 + roc30 + roc40) / 3\n",
    "    mean_acc = (acc20 + acc30 + acc40) / 3\n",
    "    mean_f1 = (f120 + f130 + f140) / 3\n",
    "    print('Mean Accuracy: {0:0.2f}'.format(mean_acc))\n",
    "    print('Mean AUROC: {0:0.2f}'.format(mean_roc))\n",
    "    print('Mean F1-Score: {0:0.2f}'.format(mean_f1))"
   ]
  },
  {
   "cell_type": "markdown",
   "metadata": {},
   "source": [
    "We now create the full feature vector, joining the TF-IDF output and the others features.\n",
    "\n",
    ">Hstack is used to avoid memory overflow when adding the TF-IDF features to dataframe. Also, we will work with sparse matrices from now on."
   ]
  },
  {
   "cell_type": "code",
   "execution_count": 38,
   "metadata": {},
   "outputs": [
    {
     "name": "stdout",
     "output_type": "stream",
     "text": [
      "(165944, 32059)\n"
     ]
    }
   ],
   "source": [
    "cols = [i for i in df_normalized_balanced.columns.values if i not in list(['editorsSelection','commentBody', 'articleWordCount'])]\n",
    "\n",
    "features_vector = hstack((tfidf,np.array(X['articleWordCount'])[:,None]))\n",
    "for i in cols:\n",
    "    features_vector = hstack((features_vector,np.array(X[i])[:,None]))\n",
    "print(features_vector.shape)"
   ]
  },
  {
   "cell_type": "markdown",
   "metadata": {},
   "source": [
    "We can now test the **SVM**."
   ]
  },
  {
   "cell_type": "code",
   "execution_count": 42,
   "metadata": {},
   "outputs": [],
   "source": [
    "#Creating SVM class with arbitrary parameters\n",
    "svm_clf = linear_model.SGDClassifier(loss='hinge', max_iter=5, random_state=100)"
   ]
  },
  {
   "cell_type": "code",
   "execution_count": 43,
   "metadata": {},
   "outputs": [
    {
     "name": "stdout",
     "output_type": "stream",
     "text": [
      "Mean Accuracy: 0.80\n",
      "Mean AUROC: 0.61\n",
      "Mean F1-Score: 0.36\n"
     ]
    }
   ],
   "source": [
    "results_train_test(svm_clf, features_vector, y.values.ravel())"
   ]
  },
  {
   "cell_type": "markdown",
   "metadata": {},
   "source": [
    "To optimize the SVM performance, we are going to use **Grid Search**."
   ]
  },
  {
   "cell_type": "markdown",
   "metadata": {},
   "source": [
    "#### Grid Search\n",
    "\n",
    "To improve the SVM parameterization, we put some parameters to GridSearch finds the optimal configuration."
   ]
  },
  {
   "cell_type": "code",
   "execution_count": 97,
   "metadata": {},
   "outputs": [],
   "source": [
    "pipeline = Pipeline([\n",
    "    ('clf', SGDClassifier())\n",
    "])\n",
    "\n",
    "parameters = {\n",
    "    'clf__alpha': (0.0001, 0.00001, 0.000001, 0.0000001),\n",
    "    'clf__epsilon': (0.1, 0.01, 0.001),\n",
    "    'clf__penalty': ('l2', 'elasticnet'),\n",
    "    'clf__max_iter': (5, 10, 15, 20),\n",
    "    'clf__class_weight': ('balanced', {0:.1, 1:.2}, {0:.1, 1:.3}, {0:.1, 1:.4})\n",
    "}\n",
    "grid = GridSearchCV(pipeline, parameters, n_jobs=-1, verbose=1, scoring = 'f1')"
   ]
  },
  {
   "cell_type": "code",
   "execution_count": 98,
   "metadata": {},
   "outputs": [
    {
     "name": "stdout",
     "output_type": "stream",
     "text": [
      "Fitting 3 folds for each of 384 candidates, totalling 1152 fits\n"
     ]
    },
    {
     "name": "stderr",
     "output_type": "stream",
     "text": [
      "[Parallel(n_jobs=-1)]: Done  42 tasks      | elapsed:   10.2s\n",
      "[Parallel(n_jobs=-1)]: Done 192 tasks      | elapsed:   47.6s\n",
      "[Parallel(n_jobs=-1)]: Done 442 tasks      | elapsed:  1.9min\n",
      "[Parallel(n_jobs=-1)]: Done 792 tasks      | elapsed:  3.3min\n",
      "[Parallel(n_jobs=-1)]: Done 1152 out of 1152 | elapsed:  4.9min finished\n"
     ]
    },
    {
     "data": {
      "text/plain": [
       "GridSearchCV(cv=None, error_score='raise',\n",
       "       estimator=Pipeline(memory=None,\n",
       "     steps=[('clf', SGDClassifier(alpha=0.0001, average=False, class_weight=None, epsilon=0.1,\n",
       "       eta0=0.0, fit_intercept=True, l1_ratio=0.15,\n",
       "       learning_rate='optimal', loss='hinge', max_iter=None, n_iter=None,\n",
       "       n_jobs=1, penalty='l2', power_t=0.5, random_state=None,\n",
       "       shuffle=True, tol=None, verbose=0, warm_start=False))]),\n",
       "       fit_params=None, iid=True, n_jobs=-1,\n",
       "       param_grid={'clf__alpha': (0.0001, 1e-05, 1e-06, 1e-07), 'clf__epsilon': (0.1, 0.01, 0.001), 'clf__penalty': ('l2', 'elasticnet'), 'clf__max_iter': (5, 10, 15, 20), 'clf__class_weight': ('balanced', {0: 0.1, 1: 0.2}, {0: 0.1, 1: 0.3}, {0: 0.1, 1: 0.4})},\n",
       "       pre_dispatch='2*n_jobs', refit=True, return_train_score='warn',\n",
       "       scoring='f1', verbose=1)"
      ]
     },
     "execution_count": 98,
     "metadata": {},
     "output_type": "execute_result"
    }
   ],
   "source": [
    "#For GridSearch we will use the training/testing ratio of 70%/30%\n",
    "X_train, X_test, y_train, y_test = train_test_split(features_vector, y.values.ravel(), test_size=0.3, random_state=100)\n",
    "grid.fit(X_train, y_train)"
   ]
  },
  {
   "cell_type": "code",
   "execution_count": 99,
   "metadata": {
    "scrolled": true
   },
   "outputs": [
    {
     "name": "stdout",
     "output_type": "stream",
     "text": [
      "Best Parameters:\n",
      "\tclf__alpha: 1e-06\n",
      "\tclf__class_weight: {0: 0.1, 1: 0.2}\n",
      "\tclf__epsilon: 0.01\n",
      "\tclf__max_iter: 20\n",
      "\tclf__penalty: 'elasticnet'\n"
     ]
    }
   ],
   "source": [
    "print(\"Best Parameters:\")\n",
    "best_parameters = grid.best_estimator_.get_params()\n",
    "for param_name in sorted(parameters.keys()):\n",
    "    print(\"\\t%s: %r\" % (param_name, best_parameters[param_name]))"
   ]
  },
  {
   "cell_type": "markdown",
   "metadata": {},
   "source": [
    "With the best parameters, it is possible to improve SVM performance."
   ]
  },
  {
   "cell_type": "code",
   "execution_count": 100,
   "metadata": {},
   "outputs": [
    {
     "name": "stdout",
     "output_type": "stream",
     "text": [
      "Mean Accuracy: 0.85\n",
      "Mean AUROC: 0.80\n",
      "Mean F1-Score: 0.70\n"
     ]
    }
   ],
   "source": [
    "optimal_svm_clf = linear_model.SGDClassifier(loss='hinge', penalty='elasticnet', alpha=1e-06, epsilon=0.01, max_iter=20, class_weight={0: 0.1, 1: 0.2}, random_state=100)\n",
    "results_train_test(optimal_svm_clf, features_vector, y.values.ravel())"
   ]
  },
  {
   "cell_type": "markdown",
   "metadata": {},
   "source": [
    "## Discussing results"
   ]
  },
  {
   "cell_type": "markdown",
   "metadata": {},
   "source": [
    "#### SVM (first results)\n",
    "\n",
    "|\t -\t\t|\tSVM (Raw)\t|\n",
    "|---------------------------|---------------------------|\n",
    "|\tMean Accuracy\t\t\t\t|\t0.80\t\t\t\t|\n",
    "| Mean AUROC | 0.61|\n",
    "| Mean F1-Score | |"
   ]
  },
  {
   "cell_type": "markdown",
   "metadata": {},
   "source": [
    "The first results show us how hard is to the classifier to infer the class = 1 (\"Editor's Selection\") due to the class balance. Even reducing the unbalanced class from our first dataset, it is still hard to classify with not much knowledge of the parameters.\n",
    "\n",
    "#### SVM (Grid Search)\n",
    "| - |\tSVM (Grid Search)\t\t\t|\n",
    "|-|-----------------------|\n",
    "| Mean Accuracy\t\t\t| 0.85 |\n",
    "| Mean AUROC  | 0.80 |\n",
    "| Mean F1-Score\t\t\t| 0.70 |\n",
    "\n",
    "The results now are way better. Improving the f1-score in Grid Search helped the SVM to penalise misclassification of the class = 1. \n"
   ]
  },
  {
   "cell_type": "markdown",
   "metadata": {},
   "source": [
    "#### Future work suggestions\n",
    "\n",
    "There are some ways to improve the model.\n",
    "\n",
    "- The ignored features from the beginning may be used to achieve new insights into the dataset.\n",
    "- Feature selection may help to improve the model generalization and avoid overfitting. Maybe XGBoost could be a good option to reduce dimensionality.\n",
    "- SVM may be improved using another kernel. Linear kernel is good in performance, but there are others kernels can generalize better."
   ]
  },
  {
   "cell_type": "code",
   "execution_count": null,
   "metadata": {},
   "outputs": [],
   "source": []
  }
 ],
 "metadata": {
  "kernelspec": {
   "display_name": "Python 3",
   "language": "python",
   "name": "python3"
  },
  "language_info": {
   "codemirror_mode": {
    "name": "ipython",
    "version": 3
   },
   "file_extension": ".py",
   "mimetype": "text/x-python",
   "name": "python",
   "nbconvert_exporter": "python",
   "pygments_lexer": "ipython3",
   "version": "3.6.8"
  }
 },
 "nbformat": 4,
 "nbformat_minor": 2
}
